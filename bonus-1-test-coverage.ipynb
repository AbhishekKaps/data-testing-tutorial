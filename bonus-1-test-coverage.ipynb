{
 "cells": [
  {
   "cell_type": "markdown",
   "metadata": {
    "collapsed": true,
    "slideshow": {
     "slide_type": "slide"
    }
   },
   "source": [
    "# Test Coverage\n",
    "\n",
    "**The percentage of your code covered by a test.**"
   ]
  },
  {
   "cell_type": "markdown",
   "metadata": {
    "slideshow": {
     "slide_type": "subslide"
    }
   },
   "source": [
    "100% test coverage is a **good starting point**. It isn't the end point."
   ]
  },
  {
   "cell_type": "markdown",
   "metadata": {},
   "source": [
    "## `pytest-coverage` \n",
    "\n",
    "A plugin for `pytest` that tells you which lines of code haven't been tested.\n",
    "\n",
    "Relies on Ned Batchelder's `coverage` package!"
   ]
  },
  {
   "cell_type": "markdown",
   "metadata": {},
   "source": [
    "```bash\n",
    "$ py.test --cov\n",
    "============================= test session starts ==============================\n",
    "platform darwin -- Python 3.6.1, pytest-3.0.7, py-1.4.33, pluggy-0.4.0\n",
    "rootdir: /Users/ericmjl/github/tutorials/data-testing-tutorial, inifile:\n",
    "plugins: cov-2.3.1\n",
    "collected 3 items\n",
    "\n",
    "test_datafuncs.py ...\n",
    "\n",
    "---------- coverage: platform darwin, python 3.6.1-final-0 -----------\n",
    "Name                Stmts   Miss  Cover\n",
    "---------------------------------------\n",
    "datafuncs.py           10      0   100%\n",
    "test_datafuncs.py      11      0   100%\n",
    "---------------------------------------\n",
    "TOTAL                  21      0   100%\n",
    "\n",
    "\n",
    "=========================== 3 passed in 0.07 seconds ===========================\n",
    "```"
   ]
  },
  {
   "cell_type": "markdown",
   "metadata": {},
   "source": [
    "```bash\n",
    "$ py.test --cov-report term-missing --cov\n",
    "============================= test session starts ==============================\n",
    "platform darwin -- Python 3.6.1, pytest-3.0.7, py-1.4.33, pluggy-0.4.0\n",
    "rootdir: /Users/ericmjl/github/tutorials/data-testing-tutorial, inifile:\n",
    "plugins: cov-2.3.1\n",
    "collected 3 items\n",
    "\n",
    "test_datafuncs.py ...\n",
    "\n",
    "---------- coverage: platform darwin, python 3.6.1-final-0 -----------\n",
    "Name                Stmts   Miss  Cover   Missing\n",
    "-------------------------------------------------\n",
    "datafuncs.py           10      0   100%\n",
    "test_datafuncs.py      11      0   100%\n",
    "-------------------------------------------------\n",
    "TOTAL                  21      0   100%\n",
    "\n",
    "\n",
    "=========================== 3 passed in 0.04 seconds ===========================\n",
    "```"
   ]
  },
  {
   "cell_type": "code",
   "execution_count": null,
   "metadata": {
    "collapsed": true
   },
   "outputs": [],
   "source": []
  }
 ],
 "metadata": {
  "celltoolbar": "Slideshow",
  "kernelspec": {
   "display_name": "Environment (conda_datatest)",
   "language": "python",
   "name": "conda_datatest"
  },
  "language_info": {
   "codemirror_mode": {
    "name": "ipython",
    "version": 3
   },
   "file_extension": ".py",
   "mimetype": "text/x-python",
   "name": "python",
   "nbconvert_exporter": "python",
   "pygments_lexer": "ipython3",
   "version": "3.6.1"
  }
 },
 "nbformat": 4,
 "nbformat_minor": 2
}
