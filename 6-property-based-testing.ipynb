{
 "cells": [
  {
   "cell_type": "markdown",
   "metadata": {
    "slideshow": {
     "slide_type": "slide"
    }
   },
   "source": [
    "# Property-based testing\n",
    "\n",
    "From the [Hypothesis]() docs:\n",
    "\n",
    "> It works by letting you write tests that assert that something should be true for every case, **not just the ones you happen to think of.**\n",
    "> \n",
    "> Think of a normal unit test as being something like the following:\n",
    "> \n",
    "> 1. Set up some data.\n",
    "> 1. Perform some operations on the data.\n",
    "> 1. Assert something about the result.\n",
    "> \n",
    "> Hypothesis lets you write tests which instead look like this:\n",
    "> \n",
    "> 1. For all data matching some specification.\n",
    "> 1. Perform some operations on the data.\n",
    "> 1. Assert something about the result.\n",
    "> \n",
    "> This is often called property based testing, and was popularised by the Haskell library Quickcheck.\n",
    "\n"
   ]
  },
  {
   "cell_type": "markdown",
   "metadata": {
    "slideshow": {
     "slide_type": "subslide"
    }
   },
   "source": [
    "## Example\n",
    "\n",
    "Standard test:\n",
    "\n",
    "```python\n",
    "def increment(x):\n",
    "    return x + 1\n",
    "    \n",
    "def test_increment():\n",
    "    x = 10  # We've only tested one value here.\n",
    "    assert increment(x) - 1 == x\n",
    "```"
   ]
  },
  {
   "cell_type": "markdown",
   "metadata": {
    "slideshow": {
     "slide_type": "subslide"
    }
   },
   "source": [
    "Property-based test:\n",
    "\n",
    "\n",
    "```python\n",
    "from hypothesis import given\n",
    "from hypothesis import strategies as st\n",
    "\n",
    "@given(st.integers())  # We are going to test a wide range of integers.\n",
    "def test_increment(x):\n",
    "    assert increment(x) - 1 == x\n",
    "```"
   ]
  },
  {
   "cell_type": "markdown",
   "metadata": {
    "slideshow": {
     "slide_type": "subslide"
    }
   },
   "source": [
    "## Exercise\n",
    "\n",
    "Implement property-based versions of the tests in `datafuncs.py`."
   ]
  },
  {
   "cell_type": "markdown",
   "metadata": {
    "collapsed": true,
    "slideshow": {
     "slide_type": "slide"
    }
   },
   "source": [
    "# Encoding Assumptions\n",
    "\n",
    "Your functions take in data and output other data. There may be assumptions implicit in your choice of data. Hypothesis can help you make these assumptions explicity as you iteratively build the test."
   ]
  },
  {
   "cell_type": "markdown",
   "metadata": {},
   "source": [
    "```python\n",
    "from hypothesis import assume\n",
    "import math\n",
    "\n",
    "def eq_roots(coefficients):\n",
    "    \"\"\"\n",
    "    Returns the non-complex roots of a quadratic equation.\n",
    "    \"\"\"\n",
    "    a, b, c = *coefficients\n",
    "    # there can be an assertion here that mirrors\n",
    "    # the assumption in the test function.\n",
    "    discriminant = b**2 - 4*a*c\n",
    "    # assert discriminant......\n",
    "    root1 = (-a + math.sqrt(b**2 - 4*a*c))/ (2*a)\n",
    "    root2 = (-a - math.sqrt(b**2 - 4*a*c))/ (2*a)\n",
    "    return root1, root2\n",
    "    \n",
    "    \n",
    "@given(st.integers(), st.integers(), st.integers())\n",
    "def test_eq_roots(a, b, c):\n",
    "    # assumption here can mirror the assertion in\n",
    "    # the original function definition\n",
    "    # assume(......... > 0)\n",
    "    r1, r2 = eq_roots(coefficients)\n",
    "    assert r1 >= r2\n",
    "```"
   ]
  },
  {
   "cell_type": "code",
   "execution_count": null,
   "metadata": {
    "collapsed": true
   },
   "outputs": [],
   "source": []
  }
 ],
 "metadata": {
  "celltoolbar": "Slideshow",
  "kernelspec": {
   "display_name": "Environment (conda_datatest)",
   "language": "python",
   "name": "conda_datatest"
  },
  "language_info": {
   "codemirror_mode": {
    "name": "ipython",
    "version": 3
   },
   "file_extension": ".py",
   "mimetype": "text/x-python",
   "name": "python",
   "nbconvert_exporter": "python",
   "pygments_lexer": "ipython3",
   "version": "3.6.1"
  }
 },
 "nbformat": 4,
 "nbformat_minor": 2
}
