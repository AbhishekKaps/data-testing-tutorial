{
 "cells": [
  {
   "cell_type": "markdown",
   "metadata": {
    "slideshow": {
     "slide_type": "slide"
    }
   },
   "source": [
    "# `py.test`\n",
    "\n",
    "> The pytest framework makes it easy to write small tests, yet scales to support complex functional testing for applications and libraries.\n",
    "\n",
    "Features:\n",
    "\n",
    "- All tests are pre-fixed with `test_`.\n",
    "- All files containing tests are prefixed with `test_`. \n",
    "- **Testing made for humans.**"
   ]
  },
  {
   "cell_type": "markdown",
   "metadata": {
    "slideshow": {
     "slide_type": "slide"
    }
   },
   "source": [
    "## Toy example: increment\n",
    "\n",
    "- Create a Python module called `datafuncs.py`. We will be adding functions to this module as we go along.\n",
    "- Inside `datafuncs.py`, write a function name `increment(x)`, which increments `x` by 1, and returns the result."
   ]
  },
  {
   "cell_type": "markdown",
   "metadata": {
    "slideshow": {
     "slide_type": "subslide"
    }
   },
   "source": [
    "```python\n",
    "# in datafuncs.py\n",
    "def increment(x):\n",
    "    return x + 1\n",
    "```"
   ]
  },
  {
   "cell_type": "markdown",
   "metadata": {
    "slideshow": {
     "slide_type": "subslide"
    }
   },
   "source": [
    "## Exercise\n",
    "\n",
    "- Create a new Python module called `test_datafuncs.py`. We will be adding tests to this module as we go along.\n",
    "- Inside `test_datafuncs.py`, write the following test for the `increment(x)` function."
   ]
  },
  {
   "cell_type": "markdown",
   "metadata": {
    "slideshow": {
     "slide_type": "subslide"
    }
   },
   "source": [
    "```python\n",
    "# in test_datafuncs.py\n",
    "import datafuncs as dfn\n",
    "def test_increment():\n",
    "    assert dfn.increment(2) != 3\n",
    "```"
   ]
  },
  {
   "cell_type": "markdown",
   "metadata": {
    "slideshow": {
     "slide_type": "subslide"
    }
   },
   "source": [
    "Now, in your terminal, execute the following command:\n",
    "\n",
    "```bash\n",
    "$ py.test\n",
    "```"
   ]
  },
  {
   "cell_type": "markdown",
   "metadata": {
    "slideshow": {
     "slide_type": "subslide"
    }
   },
   "source": [
    "\n",
    "```bash\n",
    "============================= test session starts ==============================\n",
    "platform darwin -- Python 3.6.1, pytest-3.0.7, py-1.4.33, pluggy-0.4.0\n",
    "rootdir: /Users/ericmjl/github/tutorials/data-testing-tutorial, inifile:\n",
    "collected 1 items\n",
    "\n",
    "test_datafuncs.py F\n",
    "```"
   ]
  },
  {
   "cell_type": "markdown",
   "metadata": {
    "slideshow": {
     "slide_type": "subslide"
    }
   },
   "source": [
    "```bash\n",
    "=================================== FAILURES ===================================\n",
    "________________________________ test_increment ________________________________\n",
    "\n",
    "    def test_increment():\n",
    ">       assert dfn.increment(2) != 3\n",
    "E       assert 3 != 3\n",
    "E        +  where 3 = <function increment at 0x10eaf7378>(2)\n",
    "E        +    where <function increment at 0x10eaf7378> = dfn.increment\n",
    "\n",
    "test_datafuncs.py:3: AssertionError\n",
    "=========================== 1 failed in 0.06 seconds ===========================\n",
    "```"
   ]
  },
  {
   "cell_type": "markdown",
   "metadata": {
    "slideshow": {
     "slide_type": "subslide"
    }
   },
   "source": [
    "Congratulations! You wrote your first failed test! With py.test, you have a command that automatically finds tests, executes them, and reports where they fail.\n",
    "\n",
    "Questions so far?\n",
    "\n",
    "Now, go fix the test such that it works correctly."
   ]
  },
  {
   "cell_type": "markdown",
   "metadata": {
    "collapsed": true,
    "slideshow": {
     "slide_type": "fragment"
    }
   },
   "source": [
    "```python\n",
    "def test_increment():\n",
    "    assert dfn.increment(2) == 3\n",
    "```"
   ]
  },
  {
   "cell_type": "markdown",
   "metadata": {
    "slideshow": {
     "slide_type": "subslide"
    }
   },
   "source": [
    "And then re-run that test.\n",
    "\n",
    "```bash\n",
    "$ py.test\n",
    "```"
   ]
  },
  {
   "cell_type": "markdown",
   "metadata": {
    "slideshow": {
     "slide_type": "subslide"
    }
   },
   "source": [
    "```bash\n",
    "============================= test session starts ==============================\n",
    "platform darwin -- Python 3.6.1, pytest-3.0.7, py-1.4.33, pluggy-0.4.0\n",
    "rootdir: /Users/ericmjl/github/tutorials/data-testing-tutorial, inifile:\n",
    "collected 1 items\n",
    "\n",
    "test_datafuncs.py .\n",
    "\n",
    "=========================== 1 passed in 0.02 seconds ===========================\n",
    "```"
   ]
  },
  {
   "cell_type": "markdown",
   "metadata": {
    "slideshow": {
     "slide_type": "subslide"
    }
   },
   "source": [
    "## Anatomy of a Test\n",
    "\n",
    "Let's revise now what the anatomy of a test is like.\n",
    "\n",
    "```python\n",
    "from module import function\n",
    "def test_function():  # `test_` is key here.\n",
    "    assert function(input_val) == correct_val    # assertion statement\n",
    "    assert function(input_val) != incorrect_val  # counter-example\n",
    "```"
   ]
  },
  {
   "cell_type": "markdown",
   "metadata": {
    "slideshow": {
     "slide_type": "subslide"
    }
   },
   "source": [
    "And now, the testing loop:\n",
    "\n",
    "1. Write a test for a function.\n",
    "1. Write the function.\n",
    "1. Execute `pytest`.\n",
    "1. Go back to step 1.\n",
    "\n",
    "There's nothing complex behind the ideas of testing, 80% of your cases will boil down to doing this loop."
   ]
  },
  {
   "cell_type": "markdown",
   "metadata": {
    "slideshow": {
     "slide_type": "slide"
    }
   },
   "source": [
    "## Exercise: Min-Max Scaler\n",
    "\n",
    "In `datafuncs.py`, implement a function called `min_max_scaler(x)` for your data. It should take in a `numpy` array and scale all of the values to be between 0 and 1 inclusive. The min value should be 0, and the max value should be 1."
   ]
  },
  {
   "cell_type": "code",
   "execution_count": 5,
   "metadata": {
    "slideshow": {
     "slide_type": "subslide"
    }
   },
   "outputs": [
    {
     "data": {
      "text/plain": [
       "array([ 0.   ,  0.125,  0.25 ,  0.375,  0.5  ,  0.625,  0.75 ,  0.875,  1.   ])"
      ]
     },
     "execution_count": 5,
     "metadata": {},
     "output_type": "execute_result"
    }
   ],
   "source": [
    "def min_max_scaler(x):\n",
    "    \"\"\"\n",
    "    Returns a numpy array with all of the original values scaled between 0 and 1.\n",
    "    \n",
    "    Assumes the data are a numpy array.\n",
    "    \"\"\"\n",
    "    return (x - x.min()) / (x.max() - x.min())\n",
    "\n",
    "import numpy as np\n",
    "\n",
    "arr = np.arange(1, 10)\n",
    "min_max_scaler(arr)"
   ]
  },
  {
   "cell_type": "markdown",
   "metadata": {
    "slideshow": {
     "slide_type": "subslide"
    }
   },
   "source": [
    "Now, write the following tests for the `min_max_scaler(x)` function:\n",
    "\n",
    "- Given a particular test input, the output should be equal to some other array. Use the `np.allclose(arr1, arr2)` function.\n",
    "- The values should fall between 0 and 1.\n",
    "- The test should fail if I pass in an integer."
   ]
  },
  {
   "cell_type": "markdown",
   "metadata": {
    "slideshow": {
     "slide_type": "subslide"
    }
   },
   "source": [
    "```python\n",
    "# in test_datafuncs.py\n",
    "def test_min_max_scaler():\n",
    "    arr = np.array([1, 2, 3])  # set up the test with necessary variables.\n",
    "    tfm = dfn.min_max_scaler(arr)  # collect the result into a variable\n",
    "    assert tfm == np.array([0, 0.5, 1])  # assertion statements\n",
    "    assert tfm.min() == 0  \n",
    "    assert tfm.max() == 0  \n",
    "    \n",
    "    ## how do we test that a function should fail...?!?!\n",
    "```"
   ]
  },
  {
   "cell_type": "markdown",
   "metadata": {
    "slideshow": {
     "slide_type": "subslide"
    }
   },
   "source": [
    "## Testing that a function should fail\n",
    "\n",
    "Use the `with pytest.raises(ErrorType)` context manager."
   ]
  },
  {
   "cell_type": "markdown",
   "metadata": {},
   "source": [
    "```python\n",
    "import pytest\n",
    "import numpy as np\n",
    "\n",
    "def test_min_max_scaler():\n",
    "    arr = np.array([1, 2, 3])  # set up the test with necessary variables.\n",
    "    tfm = dfn.min_max_scaler(arr)  # collect the result into a variable\n",
    "    # Correctness tests\n",
    "    assert np.allclose(tfm, np.array([0, 0.5, 1])  # assertion statements\n",
    "    assert tfm.min() == 0  \n",
    "    assert tfm.max() == 1\n",
    "\n",
    "    # min_max_scaler(x) should fail if an integer is passed in.\n",
    "    with pytest.raises(AttributeError):  \n",
    "        dfn.min_max_scaler(2)\n",
    "```"
   ]
  },
  {
   "cell_type": "markdown",
   "metadata": {
    "slideshow": {
     "slide_type": "slide"
    }
   },
   "source": [
    "## Step back\n",
    "\n",
    "- With tests, you're basically encoding your expectations of a function in code.\n",
    "- The tests you've written so far might not necessarily cover all cases, but they can cover the 80% of failures that might happen.\n",
    "- There are more powerful ways to write tests, will come later."
   ]
  },
  {
   "cell_type": "markdown",
   "metadata": {
    "slideshow": {
     "slide_type": "slide"
    }
   },
   "source": [
    "## Exercise: Testing functions on textual data.\n",
    "\n",
    "Imagine we have textual data, and we want to clean it up. There are two functions we may want to write to standardize the data:\n",
    "\n",
    "- `bag_of_words(text)`, which takes in the text and tokenizes the text into its set of constituent words.\n",
    "- `strip_punctuation(text)`, which strips punctuation from the text.\n",
    "\n",
    "Implement the two functions in `datafuncs.py`; you may wish to write additional helper functions to manage the business logic. There's leeway in this exercise; feel free to get creative!"
   ]
  },
  {
   "cell_type": "code",
   "execution_count": 3,
   "metadata": {
    "slideshow": {
     "slide_type": "subslide"
    }
   },
   "outputs": [
    {
     "data": {
      "text/plain": [
       "{'2nd',\n",
       " 'Ive',\n",
       " 'PyCon',\n",
       " 'This',\n",
       " 'and',\n",
       " 'been',\n",
       " 'hello',\n",
       " 'is',\n",
       " 'my',\n",
       " 'pleasure',\n",
       " 'the',\n",
       " 'time',\n",
       " 'to',\n",
       " 'world'}"
      ]
     },
     "execution_count": 3,
     "metadata": {},
     "output_type": "execute_result"
    }
   ],
   "source": [
    "import string\n",
    "def strip_punctuation(text):\n",
    "    exclude = string.punctuation\n",
    "    return ''.join(s for s in text if s not in exclude)\n",
    "\n",
    "t = \"hello world! This is my pleasure, and the 2nd time I've been to PyCon!\"\n",
    "\n",
    "def bag_of_words(text):\n",
    "    text = strip_punctuation(text)\n",
    "    words = set(text.split(' '))\n",
    "    return words\n",
    "\n",
    "bag_of_words(t)"
   ]
  },
  {
   "cell_type": "markdown",
   "metadata": {
    "slideshow": {
     "slide_type": "subslide"
    }
   },
   "source": [
    "Now, implement the tests. This time round, for the sake of time, only implement the assertion test, without doing a counter-example. "
   ]
  },
  {
   "cell_type": "code",
   "execution_count": 4,
   "metadata": {
    "collapsed": true,
    "slideshow": {
     "slide_type": "subslide"
    }
   },
   "outputs": [],
   "source": [
    "def test_strip_punctuation():\n",
    "    text = 'random. stuff; typed, in-to th`is text^line'\n",
    "    t = strip_punctuation(text)\n",
    "    \n",
    "    assert set(t).isdisjoint(string.punctuation)\n",
    "\n",
    "test_strip_punctuation()\n",
    "\n",
    "def test_bag_of_words():\n",
    "    text = 'random stuff typed into this text line line'\n",
    "    text_bagged = bag_of_words(text)\n",
    "    assert len(text_bagged) == 7\n",
    "    assert ' ' not in text_bagged\n",
    "    \n",
    "test_bag_of_words()"
   ]
  },
  {
   "cell_type": "markdown",
   "metadata": {
    "slideshow": {
     "slide_type": "subslide"
    }
   },
   "source": [
    "Finally, run pytest!\n",
    "\n",
    "```bash\n",
    "$ py.test\n",
    "============================= test session starts ==============================\n",
    "platform darwin -- Python 3.6.1, pytest-3.0.7, py-1.4.33, pluggy-0.4.0\n",
    "rootdir: /Users/ericmjl/github/tutorials/data-testing-tutorial, inifile:\n",
    "collected 3 items\n",
    "\n",
    "test_datafuncs.py ...\n",
    "\n",
    "=========================== 3 passed in 0.03 seconds ===========================\n",
    "```\n"
   ]
  },
  {
   "cell_type": "code",
   "execution_count": null,
   "metadata": {
    "collapsed": true
   },
   "outputs": [],
   "source": []
  }
 ],
 "metadata": {
  "celltoolbar": "Slideshow",
  "kernelspec": {
   "display_name": "Python 3",
   "language": "python",
   "name": "python3"
  },
  "language_info": {
   "codemirror_mode": {
    "name": "ipython",
    "version": 3
   },
   "file_extension": ".py",
   "mimetype": "text/x-python",
   "name": "python",
   "nbconvert_exporter": "python",
   "pygments_lexer": "ipython3",
   "version": "3.6.0"
  }
 },
 "nbformat": 4,
 "nbformat_minor": 2
}
