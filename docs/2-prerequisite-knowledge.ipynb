{
 "metadata": {
  "language_info": {
   "codemirror_mode": {
    "name": "ipython",
    "version": 3
   },
   "file_extension": ".py",
   "mimetype": "text/x-python",
   "name": "python",
   "nbconvert_exporter": "python",
   "pygments_lexer": "ipython3",
   "version": 3
  },
  "orig_nbformat": 2
 },
 "nbformat": 4,
 "nbformat_minor": 2,
 "cells": [
  {
   "cell_type": "markdown",
   "metadata": {},
   "source": [
    "## Introduction\n",
    "\n",
    "In this notebook, I will go over with you some fundamental concepts that are super important for data scientists to know. I will also go through with you why they are important, and how ignoring them will impact your workflow in negative ways."
   ]
  },
  {
   "cell_type": "markdown",
   "metadata": {},
   "source": [
    "## Virtual Environments\n",
    "\n",
    "Virtual environments are the first foundational concept you should know. This is the process of creating a software stack for a given project with as few things shared with other projects as possible."
   ]
  },
  {
   "cell_type": "markdown",
   "metadata": {},
   "source": [
    "### Docker containers \n",
    "\n",
    "At one extreme of virtual environments is Docker containers. Here, the entire software stack encompasses a whole Linux operating system, basically short of \"which CPU it runs on\". Here, any system libraries, Python packages, C libraries are packaged into a single logical \"unit\", which can be distributed to others easily as well.\n",
    "\n",
    "Docker containers are canonically declared in a `Dockerfile` (though you can name it whatever you want), which contains bash-like instructions (mixed with Docker-specific syntax) to build the environment."
   ]
  },
  {
   "cell_type": "markdown",
   "metadata": {},
   "source": [
    "### `conda` environments\n",
    "\n",
    "For data scientists, a more constrained type of environment are `conda` environments. Here, we leave system-level libraries alone, and instead are focused on packages that we need for our data science work. The line between system-level and project-level is kind of blurry, though a good conceptual way of thinking about this is to assign \"packages I import\" to the category of _data science packages_, and everything else to _system packages_.\n",
    "\n",
    "`conda` environments are canonically declared in an `environment.yml` file (though you can name it whatever you want), and use YAML syntax to declare the environment nam,e what packages you want in the environment, and where to pull them from."
   ]
  },
  {
   "cell_type": "markdown",
   "metadata": {},
   "source": [
    "### `venv` environments\n",
    "\n",
    "For Python developers specifically, one level more constrained is to use `virtualenv`. Here, only the Python interpreter and Python packages are packaged into an isolated software stack that no other projects should touch. `venv` is quite lightweight, though it is restricted to Python packages only.\n",
    "\n",
    "`venv` environments depend only on having `venv` installed on your system, and use `requirements.txt` to build the Python environment. "
   ]
  },
  {
   "cell_type": "markdown",
   "metadata": {},
   "source": [
    "### What happens if you _don't_ use a custom environment?\n",
    "\n",
    "Initially, you might not notice much. But over time, if all of your projects share the same environment, you might end up with conflicting package requirements that cannot be resolved.\n",
    "\n",
    "I once thought that environments were super troublesome, and installed everything into the macOS system environment. That caused me a ton of troubles a few months later, when I was trying to update my compute stack. I ended up with conflicting packages, and couldn't execute my code reliably, following which I decided to nuked the environment... and promptly cause iPhoto to always crash on launch. (Turns out iPhoto depends on macOS' system Python.)\n",
    "\n",
    "It was then that I knew: I had to use environments. I chose `conda` for it was (and still is) the lightest-weight way to create very well-isolated environments on a single compute system.\n",
    "\n",
    "Once I got the hang of it, _every project got its own `conda` environment_, no exceptions. Even this tutorial follows that practice.\n",
    "\n",
    "Take it from someone who's learned his lesson the hard way: Use `conda` environments!"
   ]
  },
  {
   "cell_type": "markdown",
   "metadata": {},
   "source": [
    "### Creating `conda` environments\n",
    "\n",
    "For those of you who did a manual setup, you've already got experience with this!\n",
    "\n",
    "For others, the generic instructions are as follows. Firstly, `cd` to the project directory, and ensure that there is an `environment.yml` file in there. If you want the `conda` environment to be recognized by an identifiable name in Jupyter, then make sure that the environment spec contains `ipykernel` under the `dependencies` section.\n",
    "\n",
    "Next, create the `conda` environment specified in the `environment.yml` file by running the following command at the terminal: \n",
    "\n",
    "```bash\n",
    "conda env create -f environment.yml\n",
    "```\n",
    "\n",
    "To ensure that the conda environment is recognized by Jupyter, set it up with `ipykernel`:\n",
    "\n",
    "```bash\n",
    "export ENVIRONMENT_NAME=\"..........\"  # put your environment's name here.\n",
    "python -m ipykernel install --user --name $ENVIRONMENT_NAME\n",
    "```"
   ]
  },
  {
   "cell_type": "markdown",
   "metadata": {},
   "source": [
    "## Custom Packages\n",
    "\n",
    "If you didn't know already, it's totally possible for you to build custom packages of your own! I'm going to show you the _simplest_ way of handling a custom source package here.\n"
   ]
  },
  {
   "cell_type": "markdown",
   "metadata": {},
   "source": [
    "### Assumed project structure\n",
    "\n",
    "Firstly, let's assume that you have the following project structure:\n",
    "\n",
    "```\n",
    "./\n",
    "|- docs/\n",
    "|- notebooks/\n",
    "|- README.md\n",
    "```\n"
   ]
  },
  {
   "cell_type": "markdown",
   "metadata": {},
   "source": [
    "### Create custom source package \n",
    "\n",
    "The first thing you'll want to do is make a `src` directory in your project root. (`src` is lazy programmer's way of indicating \"source\".)\n",
    "\n",
    "```bash\n",
    "mkdir src \n",
    "```\n",
    "\n",
    "Next, you'll want to navigate to your `src/` directory and create a setup.py file.\n",
    "\n",
    "```bash\n",
    "cd src \n",
    "touch setup.py\n",
    "```\n",
    "\n",
    "Now, edit `setup.py` using your favourite text editor. You'll want the bare minimum to look like this:\n",
    "\n",
    "```python\n",
    "\"\"\"Setup script.\"\"\"\n",
    "import os\n",
    "from setuptools import setup, find_packages\n",
    "\n",
    "setup(\n",
    "    # Give it any name you want, but I recommend it being short and easy to type.\n",
    "    name=\"project_name\",\n",
    "    # Put a dummy version in place\n",
    "    version=\"0.1\",\n",
    "    # Make sure all packages can be found.\n",
    "    packages=find_packages(),\n",
    ")\n",
    "```\n",
    "\n",
    "You don't need much else beyond that. Save the text file."
   ]
  },
  {
   "cell_type": "markdown",
   "metadata": {},
   "source": [
    "### Populate your source code package\n",
    "\n",
    "Now, you can start creating your library of functions in a package. Let's call the package `project_name`, which will make it consistent with the `name=\"project_name\"` kwarg that you put in `setup.py`:\n",
    "\n",
    "```bash\n",
    "mkdir project_name\n",
    "cd project_name \n",
    "touch __init__.py\n",
    "```\n",
    "\n",
    "The `__init__.py` is the \"magic\" file that enables `find_packages()` to discover that `project_name/` is a Python package to be installed! Go ahead and edit `__init__.py`, and add in any kind of function you want. If this is your first time making a Python package, then follow me and add the following function inside `__init__.py`:\n",
    "\n",
    "```python \n",
    "def hello():\n",
    "    print(\"Hello!\")\n",
    "```\n",
    "\n",
    "Now, your `src/` directory should look something like this:\n",
    "\n",
    "```\n",
    "./\n",
    "|- src/\n",
    "   |- setup.py \n",
    "   |- project_name/\n",
    "      |- __init__.py\n",
    "```\n",
    "\n",
    "You might be wondering now: So yeah, I've defined the function there, but how am I ever going to use this function?"
   ]
  },
  {
   "cell_type": "markdown",
   "metadata": {},
   "source": [
    "### Install custom source package into environment\n",
    "\n",
    "Well, now we're going to install the custom package inside your environment! I'm assuming that you've already activated your environment here, and that you have `pip` installed inside there (every `conda` environment should have it).\n",
    "\n",
    "Firstly, navigate to the `src/` directory. (The one that contains `setup.py`.)\n",
    "\n",
    "Next, tell `pip` to install your custom package in \"editable\" mode.\n",
    "\n",
    "```bash\n",
    "pip install -e .\n",
    "```\n",
    "\n",
    "\"Editable\" mode will give you the ability to change the source on-the-fly, and have those changes reflected on every new invocation of Python!"
   ]
  },
  {
   "cell_type": "markdown",
   "metadata": {},
   "source": [
    "### Verify that the package is installed\n",
    "\n",
    "That's it! If you want to verify that the package has been installed correctly, navigate to the project root directory, i.e. the one with `notebooks/` and `README.md` in it. Then, run Python from there:\n",
    "\n",
    "```bash\n",
    "python \n",
    "```\n",
    "\n",
    "Now, try importing the `hello` function.\n",
    "\n",
    "```python\n",
    ">>> from project_name import hello\n",
    ">>> hello()\n",
    "\"Hello!\"\n",
    "```\n",
    "\n",
    "If you get the printed `\"Hello!\"`, then everything is installed correctly"
   ]
  },
  {
   "cell_type": "markdown",
   "metadata": {},
   "source": [
    "### Populate more source files!\n",
    "\n",
    "You can add more source `.py` files in the package, to logically organize things.\n",
    "For example, if you have data loaders, you can add them to a `project_name/data.py` file,\n",
    "and they will then be accessible from the `project_name.data` namespace."
   ]
  },
  {
   "cell_type": "markdown",
   "metadata": {},
   "source": [
    "### What happens if you don't use a custom project source?\n",
    "\n",
    "Well, you end up with notebooks that are populated with lots of functions, which might need to be copied and pasted from notebook to notebook... which will lead to confusion later as you try to untangle, \"which _exactly_ was the source-of-truth version of the function??\"\n",
    "\n",
    "Or you might resort to cloning entire notebooks, and suffixing them with `_v1`, `_v2`, or `_some_other_purpose`... still not ideal at all.\n",
    "\n",
    "By instead using a custom source package, you get a single source of truth for custom functions that you might have written, which you can use from notebook to notebook. (Doing so also helps with testing your code, which I hear is the purpose of this tutorial!)\n",
    "\n",
    "You might be tempted to use your Jupyter notebooks as a source file, say, using some of `fast.ai`'s tooling. I'd encourage you to avoid doing that too, as the simple act of hand-curating the functions that you need nudges you to think very _clearly_ about how your project should be structured. The discipline now pays off compound interest dividends in time saved later on, especially if your project is a fairly medium-term to long-term-ish kind of project (on the order of months to years), or if you have a good hunch that the project may make it to \"production\" (whatever that looks like for you). Your engineering colleagues will thank you for giving a starting point that already includes a custom source library."
   ]
  }
 ]
}