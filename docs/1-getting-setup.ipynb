{
 "cells": [
  {
   "cell_type": "markdown",
   "metadata": {
    "slideshow": {
     "slide_type": "slide"
    }
   },
   "source": [
    "## Introduction\n",
    "\n",
    "Here are the ways that you can get setup to work with this tutorial repository."
   ]
  },
  {
   "cell_type": "markdown",
   "metadata": {},
   "source": [
    "### Use Binder\n",
    "\n",
    "The first option is to user Binder! Simply click on the link below."
   ]
  },
  {
   "cell_type": "markdown",
   "metadata": {},
   "source": [
    "### Use VSCode's Dev Containers\n",
    "\n",
    "Another way you can interact with the notebooks is to use VSCode's development containers.\n",
    "Fire up VSCode, and in the command palette,\n",
    "search for `Remote Containers: Open Repository in Container`,\n",
    "and then paste the URL to this repository in there."
   ]
  },
  {
   "cell_type": "markdown",
   "metadata": {},
   "source": [
    "### Get Setup Manually\n",
    "\n",
    "To get setup manually:\n",
    "\n",
    "1. Clone the repository locally.\n",
    "2. `cd` to the repository.\n",
    "3. Install the environment: `conda env create -f environment.yml`\n",
    "4. Install the Jupyter kernel: `python -m ipykernel install --user --name datatest`\n",
    "5. Run Jupyterlab: `jupyter lab`"
   ]
  },
  {
   "cell_type": "markdown",
   "metadata": {},
   "source": [
    "Are you ready? Head over to the next section to continue learning more!"
   ]
  }
 ],
 "metadata": {
  "celltoolbar": "Slideshow",
  "kernelspec": {
   "display_name": "Python 3",
   "language": "python",
   "name": "python3"
  },
  "language_info": {
   "codemirror_mode": {
    "name": "ipython",
    "version": 3
   },
   "file_extension": ".py",
   "mimetype": "text/x-python",
   "name": "python",
   "nbconvert_exporter": "python",
   "pygments_lexer": "ipython3",
   "version": "3.6.0"
  }
 },
 "nbformat": 4,
 "nbformat_minor": 2
}