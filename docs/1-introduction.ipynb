{
 "cells": [
  {
   "cell_type": "markdown",
   "metadata": {
    "slideshow": {
     "slide_type": "slide"
    }
   },
   "source": [
    "## Introduction\n",
    "\n",
    "You're a data scientist, and you're having fun with your data.\n",
    "You might write a lot of code in support of your project,\n",
    "and enjoying it a ton too!\n",
    "\n",
    "But at some point, things get out of control.\n",
    "\n",
    "The functions you've copied from one notebook to another\n",
    "proliferate across the project,\n",
    "and suddenly, you're not so sure which function\n",
    "is \"the one\" you trust.\n",
    "\n",
    "Also, the data seem to be changing underneath you,\n",
    "with unexpected errors cropping up \n",
    "in the form of null values, invalid values, and more.\n",
    "\n",
    "Sounds familiar?\n",
    "\n",
    "If you're on the lookout for a short guidebook to solving these problems,\n",
    "this one will give you the fundamentals.\n",
    "Come join me as I show you how the incorporation of two,\n",
    "namely software testing and schema validation,\n",
    "can help bring a measure of sanity to your data science workflow as a data scientist."
   ]
  },
  {
   "cell_type": "markdown",
   "metadata": {},
   "source": [
    "## What to expect\n",
    "\n",
    "Throughout these notebooks, we will be covering two key themes:\n",
    "\n",
    "1. Software testing, via `pytest` and `hypothesis`, and\n",
    "2. Data validation, using a mixture of custom Python functions and `pandera`.\n",
    "\n",
    "Software testing involves running commands at the terminal,\n",
    "as such the notebooks on software testing \n",
    "are designed to be read. \n",
    "By contrast, data validation involves running code in the notebook.\n",
    "As such, those notebooks on data validation are intended to be executed."
   ]
  },
  {
   "cell_type": "markdown",
   "metadata": {},
   "source": [
    "## Getting Setup\n",
    "\n",
    "There are a few options you have on hand for getting setup."
   ]
  },
  {
   "cell_type": "markdown",
   "metadata": {},
   "source": [
    "### Use Binder\n",
    "\n",
    "The first option is to user Binder! Simply click on the link below."
   ]
  },
  {
   "cell_type": "markdown",
   "metadata": {},
   "source": [
    "### Use VSCode's Dev Containers\n",
    "\n",
    "Another way you can interact with the notebooks is to use VSCode's development containers.\n",
    "Fire up VSCode, and in the command palette,\n",
    "search for `Remote Containers: Open Repository in Container`,\n",
    "and then paste the URL to this repository in there."
   ]
  },
  {
   "cell_type": "markdown",
   "metadata": {},
   "source": [
    "### Get Setup Manually\n",
    "\n",
    "To get setup manually:\n",
    "\n",
    "1. Clone the repository locally.\n",
    "2. `cd` to the repository.\n",
    "3. Install the environment: `conda env create -f environment.yml`\n",
    "4. Install the Jupyter kernel: `python -m ipykernel install --user --name datatest`\n",
    "5. Run Jupyterlab: `jupyter lab`"
   ]
  }
 ],
 "metadata": {
  "celltoolbar": "Slideshow",
  "kernelspec": {
   "display_name": "Python 3",
   "language": "python",
   "name": "python3"
  },
  "language_info": {
   "codemirror_mode": {
    "name": "ipython",
    "version": 3
   },
   "file_extension": ".py",
   "mimetype": "text/x-python",
   "name": "python",
   "nbconvert_exporter": "python",
   "pygments_lexer": "ipython3",
   "version": "3.6.0"
  }
 },
 "nbformat": 4,
 "nbformat_minor": 2
}