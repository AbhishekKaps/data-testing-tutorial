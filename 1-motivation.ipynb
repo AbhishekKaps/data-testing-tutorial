{
 "cells": [
  {
   "cell_type": "markdown",
   "metadata": {
    "slideshow": {
     "slide_type": "slide"
    }
   },
   "source": [
    "# Best Data Testing Practices for Data Science\n",
    "\n",
    "Eric J. Ma\n",
    "\n",
    "MIT Biological Engineering"
   ]
  },
  {
   "cell_type": "markdown",
   "metadata": {
    "slideshow": {
     "slide_type": "slide"
    }
   },
   "source": [
    "## Why tests?\n",
    "\n",
    "- We make assumptions about our code & data. \n",
    "- There are cases where those assumptions are violated.\n",
    "- Therefore, automated testing of those assumptions is important."
   ]
  },
  {
   "cell_type": "markdown",
   "metadata": {
    "slideshow": {
     "slide_type": "slide"
    }
   },
   "source": [
    "## Tests\n",
    "\n",
    "> A contract between your current self and your future self.\n",
    "> What you expect to be right now should hold true in the future.\n",
    "> What you expect to be wrong now should still be wrong in the future.\n",
    "> Unless the requirements have changed!"
   ]
  },
  {
   "cell_type": "markdown",
   "metadata": {
    "slideshow": {
     "slide_type": "slide"
    }
   },
   "source": [
    "# Lets discuss!\n",
    "\n",
    "What needs to be tested for:\n",
    "\n",
    "- code?\n",
    "- data?\n",
    "- statistics?"
   ]
  },
  {
   "cell_type": "markdown",
   "metadata": {
    "slideshow": {
     "slide_type": "slide"
    }
   },
   "source": [
    "## For code, what needs to be tested?\n",
    "\n",
    "- Given some example input(s), the output is correct.\n",
    "- Counter-examples should show up as incorrect.\n",
    "- Boundary cases are accounted for using defensive programming.\n",
    "- All lines of stable code are subject to at least one test."
   ]
  },
  {
   "cell_type": "markdown",
   "metadata": {
    "slideshow": {
     "slide_type": "slide"
    }
   },
   "source": [
    "## For data, what needs to be tested?\n",
    "\n",
    "- Data types are appropriate. (Types)\n",
    "- Data has not been tampered with. (Integrity)\n",
    "- Missing values are accounted for. (Completeness)\n",
    "- Data schema is complete. (Structure)"
   ]
  },
  {
   "cell_type": "markdown",
   "metadata": {
    "slideshow": {
     "slide_type": "slide"
    }
   },
   "source": [
    "## For statistical analysis & ML, what else needs to be done?\n",
    "\n",
    "- Underlying distributions for real-valued (numeric; integer or floats) data.\n",
    "- Classifying data as categorical, ordinal, count, compositional, or continuous.\n",
    "- Categorical/ordinal values represented as strings should be converted to numerical representations."
   ]
  },
  {
   "cell_type": "markdown",
   "metadata": {
    "slideshow": {
     "slide_type": "slide"
    }
   },
   "source": [
    "## What to expect\n",
    "\n",
    "### Tutorial Material\n",
    "\n",
    "- Simple exercises getting you familiar with how to write tests.\n",
    "- Give you a set of tools + code to bootstrap testing for another project.\n",
    "\n",
    "### Bonus Material\n",
    "\n",
    "- Property-based testing to help you find edge cases more easily.\n",
    "- Series of mini-projects on testing practices at the end."
   ]
  },
  {
   "cell_type": "markdown",
   "metadata": {
    "slideshow": {
     "slide_type": "slide"
    }
   },
   "source": [
    "## Take-Homes\n",
    "\n",
    "- **If anything, I want you to not be afraid to write a test.**\n",
    "- Beyond this:\n",
    "    - You'll get a ton of practice with [`pytest`](https://docs.pytest.org/en/latest/) and assertion statements.\n",
    "    - You'll will be left with self-paced learning material for [`hypothesis`](https://hypothesis.readthedocs.io/en/latest/) to do property-based testing.\n",
    "    - You will have a starter set of tools for writing tests for your code and data."
   ]
  },
  {
   "cell_type": "code",
   "execution_count": null,
   "metadata": {
    "collapsed": true
   },
   "outputs": [],
   "source": []
  }
 ],
 "metadata": {
  "celltoolbar": "Slideshow",
  "kernelspec": {
   "display_name": "Python 3",
   "language": "python",
   "name": "python3"
  },
  "language_info": {
   "codemirror_mode": {
    "name": "ipython",
    "version": 3
   },
   "file_extension": ".py",
   "mimetype": "text/x-python",
   "name": "python",
   "nbconvert_exporter": "python",
   "pygments_lexer": "ipython3",
   "version": "3.6.0"
  }
 },
 "nbformat": 4,
 "nbformat_minor": 2
}
