{
 "cells": [
  {
   "cell_type": "markdown",
   "metadata": {},
   "source": [
    "# Best Data Testing Practices for Data Science\n",
    "\n",
    "Eric J. Ma\n",
    "\n",
    "MIT Biological Engineering"
   ]
  },
  {
   "cell_type": "markdown",
   "metadata": {},
   "source": [
    "## Why tests?\n",
    "\n",
    "- We make assumptions about our code & data. \n",
    "- There are cases where those assumptions are violated.\n",
    "- Therefore, automated testing of those assumptions is important."
   ]
  },
  {
   "cell_type": "markdown",
   "metadata": {},
   "source": [
    "## Tests\n",
    "\n",
    "\"A function that tests another function for correctness.\""
   ]
  },
  {
   "cell_type": "markdown",
   "metadata": {},
   "source": [
    "## For code, what needs to be tested?\n",
    "\n",
    "- Given some example input(s), the output is correct.\n",
    "- Counter-examples should show up as incorrect.\n",
    "- Boundary cases are accounted for using defensive programming.\n",
    "- All lines of code are subject to at least one test."
   ]
  },
  {
   "cell_type": "markdown",
   "metadata": {},
   "source": [
    "## For data, what needs to be tested?\n",
    "\n",
    "- Data types are appropriate. (Types)\n",
    "- Data has not been tampered with. (Integrity)\n",
    "- Missing values are accounted for. (Completeness)\n",
    "- Data schema is complete. (Structure)"
   ]
  },
  {
   "cell_type": "markdown",
   "metadata": {},
   "source": [
    "## For statistical analysis & ML, what else needs to be done?\n",
    "\n",
    "- Underlying distributions for real-valued (numeric; integer or floats) data.\n",
    "- Classifying data as categorical, ordinal, count, compositional, or continuous.\n",
    "- Categorical/ordinal values represented as strings should be converted to numerical representations."
   ]
  },
  {
   "cell_type": "markdown",
   "metadata": {},
   "source": [
    "## What to expect\n",
    "\n",
    "- Each section is centered around one or two datasets.\n",
    "- Not a case study, will not spend excessive amounts of time on analyzing the datasets presented here.\n",
    "- We will, however, make one or two simple summary plots of the data to quench your curiosity thirst."
   ]
  },
  {
   "cell_type": "code",
   "execution_count": null,
   "metadata": {},
   "outputs": [],
   "source": []
  }
 ],
 "metadata": {
  "kernelspec": {
   "display_name": "Python 3",
   "language": "python",
   "name": "python3"
  },
  "language_info": {
   "codemirror_mode": {
    "name": "ipython",
    "version": 3
   },
   "file_extension": ".py",
   "mimetype": "text/x-python",
   "name": "python",
   "nbconvert_exporter": "python",
   "pygments_lexer": "ipython3",
   "version": "3.6.0"
  }
 },
 "nbformat": 4,
 "nbformat_minor": 2
}
